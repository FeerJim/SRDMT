{
 "cells": [
  {
   "cell_type": "markdown",
   "metadata": {},
   "source": [
    "# Computational tests using the S-JIAM and EJIAM formulations, and the algorithm LPB:\n",
    "\n",
    "## Real instances:"
   ]
  },
  {
   "cell_type": "code",
   "execution_count": null,
   "metadata": {
    "scrolled": true
   },
   "outputs": [],
   "source": [
    "import models_codes as milp\n",
    "\n",
    "# Names of the files with the test instances\n",
    "real_instances_names = ['PGA','Centenario','Cuenca','Galo_Plaza','Manta','Santiago']\n",
    "real_instances_names_p = [inst+'_p' for inst in real_instances_names]\n",
    "\n",
    "K = 25 # number of machines\n",
    "\n",
    "## Run S-JIAM formulation\n",
    "milp.table_S_JIAM(real_instances_names+real_instances_names_p,\n",
    "                  K,\n",
    "                  T_limit = 3600,\n",
    "                  file = 'Results/S_JIAM_real_instances'\n",
    "                  )\n",
    "\n",
    "## Run EJIAM formulation\n",
    "milp.table_EJIAM(real_instances_names_p,\n",
    "                 K,\n",
    "                 p = 0,\n",
    "                 L = 60,\n",
    "                 T_limit = 3600,\n",
    "                 file = 'Results/EJIAM_real_instances'\n",
    "                )\n",
    "\n",
    "## Run LPB algorithm\n",
    "milp.table_LPB(real_instances_names_p,\n",
    "               K,\n",
    "               p = 0,\n",
    "               L = 60,\n",
    "               T_limit = 3600,\n",
    "               file = 'Results/LPB_real_instances'\n",
    "              )"
   ]
  },
  {
   "cell_type": "markdown",
   "metadata": {},
   "source": [
    "## Simulated instances of group 1 (multiplying the arrival rates by factor of 1)"
   ]
  },
  {
   "cell_type": "code",
   "execution_count": null,
   "metadata": {
    "scrolled": true
   },
   "outputs": [],
   "source": [
    "import models_codes as milp\n",
    "\n",
    "# Names of the files with the simulated test instances\n",
    "i = 0 # i+1 is the index of the group X\n",
    "simulated_instances_name = ['Inst '+str(i+1)+'.'+str(k+1) for k in range(6)]\n",
    "simulated_instances_name_p = [inst+'_p' for inst in simulated_instances_name]\n",
    "\n",
    "K_p = 25 # number of machines\n",
    "\n",
    "## Run S-JIAM formulation\n",
    "milp.table_S_JIAM(simulated_instances_name+simulated_instances_name_p,\n",
    "                  K_p,file = 'Results/S_JIAM_simulated_instances_1', T_limit = 3600, RN = 2)\n",
    "\n",
    "## Run EJIAM formulation\n",
    "milp.table_EJIAM(simulated_instances_name_p,\n",
    "                 K_p,p = 0,L = 60,T_limit = 3600,file = 'Results/EJIAM_simulated_instances_1')\n",
    "\n",
    "## Run LPB algorithm\n",
    "milp.table_LPB(simulated_instances_name_p,\n",
    "               K_p,p = 0,L = 60,T_limit = 3600,file = 'Results/LPB_simulated_instances_1')"
   ]
  },
  {
   "cell_type": "markdown",
   "metadata": {},
   "source": [
    "## Simulated instances of group 2 (multiplying the arrival rates by factor of 1.5)"
   ]
  },
  {
   "cell_type": "code",
   "execution_count": null,
   "metadata": {
    "scrolled": true
   },
   "outputs": [],
   "source": [
    "import models_codes as milp\n",
    "\n",
    "# Names of the files with the simulated test instances\n",
    "i = 1\n",
    "simulated_instances_name = ['Inst '+str(i+1)+'.'+str(k+1) for k in range(6)]\n",
    "simulated_instances_name_p = [inst+'_p' for inst in simulated_instances_name]\n",
    "\n",
    "K_p = 55 # number of machines\n",
    "\n",
    "## Run S-JIAM formulation\n",
    "milp.table_S_JIAM(simulated_instances_name+simulated_instances_name_p,\n",
    "                  K_p,file = 'Results/S_JIAM_simulated_instances_2', T_limit = 3600, RN = 2)\n",
    "\n",
    "## Run EJIAM formulation\n",
    "milp.table_EJIAM(simulated_instances_name_p,\n",
    "                 K_p,p = 0,L = 60,file = 'Results/EJIAM_simulated_instances_2',T_limit = 3600)\n",
    "\n",
    "## Run LPB algorithm\n",
    "milp.table_LPB(simulated_instances_name_p,\n",
    "               K_p,p = 0,L = 60,T_limit = 3600,file = 'Results/LPB_simulated_instances_2')"
   ]
  },
  {
   "cell_type": "markdown",
   "metadata": {},
   "source": [
    "## Simulated instances of group 3 (multiplying the arrival rates by factor of 2)"
   ]
  },
  {
   "cell_type": "code",
   "execution_count": null,
   "metadata": {
    "scrolled": true
   },
   "outputs": [],
   "source": [
    "import models_codes as milp\n",
    "\n",
    "# Names of the files with the simulated test instances\n",
    "i = 2\n",
    "simulated_instances_name = ['Inst '+str(i+1)+'.'+str(k+1) for k in range(6)]\n",
    "simulated_instances_name_p = [inst+'_p' for inst in simulated_instances_name]\n",
    "\n",
    "K_p = 110 # number of machines\n",
    "\n",
    "## Run S-JIAM formulation\n",
    "milp.table_S_JIAM(simulated_instances_name+simulated_instances_name_p,\n",
    "                  K_p,file = 'Results/S_JIAM_simulated_instances_3', T_limit = 3600, RN = 2)\n",
    "\n",
    "## Run EJIAM formulation\n",
    "milp.table_EJIAM(simulated_instances_name_p,\n",
    "                 K_p,p = 0,L = 60,file = 'Results/EJIAM_simulated_instances_3', T_limit = 60)\n",
    "\n",
    "## Run LPB algorithm\n",
    "milp.table_LPB(simulated_instances_name_p,\n",
    "               K_p,p = 0,L = 60,T_limit = 3600,file = 'Results/LPB_simulated_instances_3')"
   ]
  },
  {
   "cell_type": "markdown",
   "metadata": {},
   "source": [
    "## Simulated instances of group 4 (multiplying the arrival rates by factor of 2.5)"
   ]
  },
  {
   "cell_type": "code",
   "execution_count": null,
   "metadata": {
    "scrolled": true
   },
   "outputs": [],
   "source": [
    "import models_codes as milp\n",
    "\n",
    "# Names of the files with the simulated test instances\n",
    "i = 3\n",
    "simulated_instances_name = ['Inst '+str(i+1)+'.'+str(k+1) for k in range(6)]\n",
    "simulated_instances_name_p = [inst+'_p' for inst in simulated_instances_name]\n",
    "\n",
    "K_p = 188 # number of machines\n",
    "\n",
    "## Run S-JIAM formulation\n",
    "milp.table_S_JIAM(simulated_instances_name+simulated_instances_name_p,\n",
    "                  K_p,file = 'Results/S_JIAM_simulated_instances_4', T_limit = 3600, RN = 2)\n",
    "\n",
    "## Run EJIAM formulation\n",
    "milp.table_EJIAM(simulated_instances_name_p,\n",
    "                 K_p,p = 0,L = 60,file = 'Results/EJIAM_simulated_instances_4', T_limit = 3600)\n",
    "\n",
    "## Run LPB algorithm\n",
    "milp.table_LPB(simulated_instances_name_p,\n",
    "               K_p,p = 0,L = 60,T_limit = 3600,file = 'Results/LPB_simulated_instances_4')"
   ]
  },
  {
   "cell_type": "markdown",
   "metadata": {},
   "source": [
    "## Simulated instances of group 5 (multiplying the arrival rates by factor of 3)"
   ]
  },
  {
   "cell_type": "code",
   "execution_count": null,
   "metadata": {
    "scrolled": true
   },
   "outputs": [],
   "source": [
    "import models_codes as milp\n",
    "\n",
    "# Names of the files with the simulated test instances\n",
    "i = 4\n",
    "simulated_instances_name = ['Inst '+str(i+1)+'.'+str(k+1) for k in range(6)]\n",
    "simulated_instances_name_p = [inst+'_p' for inst in simulated_instances_name]\n",
    "\n",
    "K_p = 227 # number of machines\n",
    "\n",
    "## Run S-JIAM formulation\n",
    "milp.table_S_JIAM(simulated_instances_name+simulated_instances_name_p,\n",
    "                  K_p,file = 'Results/S_JIAM_simulated_instances_5', T_limit = 3600, RN = 2)\n",
    "\n",
    "## Run EJIAM formulation\n",
    "milp.table_EJIAM(simulated_instances_name_p,\n",
    "                 K_p,p = 0,L = 60,file = 'Results/EJIAM_simulated_instances_5', T_limit = 3600)\n",
    "\n",
    "## Run LPB algorithm\n",
    "milp.table_LPB(simulated_instances_name_p,\n",
    "               K_p,p = 0,L = 60,T_limit = 3600,file = 'Results/LPB_simulated_instances_5')"
   ]
  },
  {
   "cell_type": "code",
   "execution_count": null,
   "metadata": {},
   "outputs": [],
   "source": []
  }
 ],
 "metadata": {
  "kernelspec": {
   "display_name": "Python 3",
   "language": "python",
   "name": "python3"
  },
  "language_info": {
   "codemirror_mode": {
    "name": "ipython",
    "version": 3
   },
   "file_extension": ".py",
   "mimetype": "text/x-python",
   "name": "python",
   "nbconvert_exporter": "python",
   "pygments_lexer": "ipython3",
   "version": "3.11.7"
  }
 },
 "nbformat": 4,
 "nbformat_minor": 4
}
