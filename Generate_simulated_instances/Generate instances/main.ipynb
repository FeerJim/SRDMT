{
 "cells": [
  {
   "attachments": {},
   "cell_type": "markdown",
   "metadata": {},
   "source": [
    "## How to generate simulated instances"
   ]
  },
  {
   "cell_type": "code",
   "execution_count": 5,
   "metadata": {},
   "outputs": [
    {
     "name": "stdout",
     "output_type": "stream",
     "text": [
      "Args       Seed  Num. Clientes\n",
      "         0     0        927\n",
      "         0     1        967\n",
      "         0     2        885\n",
      "         0     3        921\n",
      "         0     4        863\n",
      "         0     5        983\n",
      "         1     0       1337\n",
      "         1     1       1380\n",
      "         1     2       1304\n",
      "         1     3       1342\n",
      "         1     4       1382\n",
      "         1     5       1366\n",
      "         2     0       1795\n",
      "         2     1       1858\n",
      "         2     2       1883\n",
      "         2     3       1830\n",
      "         2     4       1833\n",
      "         2     5       1790\n",
      "         3     0       2283\n",
      "         3     1       2201\n",
      "         3     2       2291\n",
      "         3     3       2312\n",
      "         3     4       2331\n",
      "         3     5       2337\n",
      "         4     0       2830\n",
      "         4     1       2723\n",
      "         4     2       2795\n",
      "         4     3       2790\n",
      "         4     4       2730\n",
      "         4     5       2753\n"
     ]
    }
   ],
   "source": [
    "import generate_instances as gen_inst\n",
    "import pandas as pd\n",
    "\n",
    "Arg = gen_inst.read_arg('Arg.RData') # Read parameters to the Weibull distribution\n",
    "\n",
    "NUM_SERVERS = 15  # Number of servers (machines)\n",
    "SIM_TIME = 120     # Limit time (duration in seconds of a period)\n",
    "\n",
    "args = [1,1.5,2,2.5,3] # multiplicate the arrival rates by different factors (five groups)\n",
    "\n",
    "# For each group i we generate 6 instances\n",
    "for i in range(5):\n",
    "    for k in range(6):\n",
    "        RANDOM_SEED = 1234 + k # change seed of simulation\n",
    "        for h in range(8,17): # The servers open at 8h00 and close at 17h00\n",
    "            HOUR = h # Period (in hours)\n",
    "            SHAPE = args[i] * Arg['H'+str(HOUR)]['Shape']\n",
    "            SCALE = args[i] * Arg['H'+str(HOUR)]['Scale']\n",
    "            LAMBDA = args[i] * Arg['H'+str(HOUR)]['TasaLlegada']\n",
    "\n",
    "            # Save data in a dataframe\n",
    "            R = {} # Releases time\n",
    "            start = {} # Starts time\n",
    "            end = {} # End times\n",
    "\n",
    "            df = gen_inst.gen_data(RANDOM_SEED, SIM_TIME, NUM_SERVERS, LAMBDA, SCALE, SHAPE,R,start,end,HOUR)\n",
    "            if h == 8:\n",
    "                df2 = df.copy()\n",
    "            df2 = pd.concat([df,df2], ignore_index=True)\n",
    "\n",
    "        # Save data in a csv file\n",
    "        df2[['Ticket_ID','Horas','Minutos','Duracion']].to_csv('data/Instancia_'+str(i)+'_'+str(k)+'.csv',index=False)"
   ]
  },
  {
   "cell_type": "code",
   "execution_count": null,
   "metadata": {},
   "outputs": [],
   "source": []
  }
 ],
 "metadata": {
  "kernelspec": {
   "display_name": "Python 3 (ipykernel)",
   "language": "python",
   "name": "python3"
  },
  "language_info": {
   "codemirror_mode": {
    "name": "ipython",
    "version": 3
   },
   "file_extension": ".py",
   "mimetype": "text/x-python",
   "name": "python",
   "nbconvert_exporter": "python",
   "pygments_lexer": "ipython3",
   "version": "3.8.2"
  }
 },
 "nbformat": 4,
 "nbformat_minor": 4
}
