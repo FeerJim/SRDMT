{
 "cells": [
  {
   "attachments": {},
   "cell_type": "markdown",
   "metadata": {},
   "source": [
    "# Instances with equal processing time\n",
    "\n",
    "We create new instances with durations equal to the average and show the relevant information for each instance in a csv file."
   ]
  },
  {
   "cell_type": "code",
   "execution_count": 1,
   "metadata": {
    "scrolled": true
   },
   "outputs": [],
   "source": [
    "import sim\n",
    "\n",
    "# Real instances name\n",
    "test_instances_name = ['PGA','Centenario','Cuenca','Galo_Plaza','Manta','Santiago']\n",
    "\n",
    "# Simulated instances name\n",
    "for i in range(5):\n",
    "    for k in range(6):\n",
    "        test_instances_name.append('Inst '+str(i+1)+'.'+str(k+1))\n",
    "\n",
    "# Generate instances with equal processing time\n",
    "sim.inst_new_duration(test_instances_name)\n",
    "\n",
    "# Create a file with a summary of all instances\n",
    "sim.summary_inst(test_instances_name+[inst+'_p' for inst in test_instances_name])"
   ]
  },
  {
   "cell_type": "code",
   "execution_count": null,
   "metadata": {},
   "outputs": [],
   "source": []
  }
 ],
 "metadata": {
  "kernelspec": {
   "display_name": "Python 3",
   "language": "python",
   "name": "python3"
  },
  "language_info": {
   "codemirror_mode": {
    "name": "ipython",
    "version": 3
   },
   "file_extension": ".py",
   "mimetype": "text/x-python",
   "name": "python",
   "nbconvert_exporter": "python",
   "pygments_lexer": "ipython3",
   "version": "3.7.16"
  }
 },
 "nbformat": 4,
 "nbformat_minor": 4
}
