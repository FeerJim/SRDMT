{
 "cells": [
  {
   "attachments": {},
   "cell_type": "markdown",
   "id": "6c0b9e9a",
   "metadata": {},
   "source": [
    "# Experiments with the Flow Based Model (FBM) in:\n"
   ]
  },
  {
   "cell_type": "markdown",
   "id": "0b22a1dc",
   "metadata": {},
   "source": [
    "## Real instances"
   ]
  },
  {
   "cell_type": "code",
   "execution_count": null,
   "id": "4b7a3c52",
   "metadata": {
    "scrolled": true
   },
   "outputs": [],
   "source": [
    "import FBM as MF\n",
    "# Names of the files with the test instances\n",
    "real_instances_names = ['PGA','Centenario','Cuenca','Galo_Plaza','Manta','Santiago']\n",
    "real_instances_names_p = [inst+'_p' for inst in real_instances_names]\n",
    "\n",
    "## The following command allows us to solve the real instances using the FBM model \n",
    "## and save the results in an Excel table named \"FBM_real_instances.csv\"\n",
    "MF.analysis_FBM(real_instances_names+real_instances_names_p,\n",
    "                K = 25,\n",
    "                file = 'Results/FBM_real_instances',\n",
    "                output = 1, \n",
    "                T_limit = 3600, \n",
    "                logs = True)\n"
   ]
  },
  {
   "cell_type": "markdown",
   "id": "b9667f88",
   "metadata": {},
   "source": [
    "## Simulated instances of group 1 (multiplying the arrival rates by factor of 1)"
   ]
  },
  {
   "cell_type": "code",
   "execution_count": null,
   "id": "e2d862e5",
   "metadata": {
    "scrolled": true
   },
   "outputs": [],
   "source": [
    "import FBM as MF\n",
    "\n",
    "# Names of the files with the simulated test instances\n",
    "i = 0 # i+1 is the index of the group X\n",
    "simulated_instances_name = ['Inst_'+str(i+1)+'_'+str(k+1) for k in range(6)]\n",
    "simulated_instances_name_p = [inst+'_p' for inst in simulated_instances_name]\n",
    "\n",
    "K = 25 # Number of available machines\n",
    "\n",
    "# Run the model with the default parameters\n",
    "MF.analysis_FBM(simulated_instances_name+simulated_instances_name_p,\n",
    "                K = K,\n",
    "                file = 'Results/FBM_simulated_instances1',\n",
    "                output = 1, \n",
    "                T_limit = 3600, \n",
    "                logs = True)\n"
   ]
  },
  {
   "cell_type": "markdown",
   "id": "2b323646",
   "metadata": {},
   "source": [
    "## Simulated instances of group 2 (multiplying the arrival rates by factor of 1.5)"
   ]
  },
  {
   "cell_type": "code",
   "execution_count": null,
   "id": "cbf118e6",
   "metadata": {
    "scrolled": true
   },
   "outputs": [],
   "source": [
    "import FBM as MF\n",
    "\n",
    "# Names of the files with the simulated test instances\n",
    "i = 1\n",
    "simulated_instances_name = ['Inst_'+str(i+1)+'_'+str(k+1) for k in range(6)]\n",
    "simulated_instances_name_p = [inst+'_p' for inst in simulated_instances_name]\n",
    "\n",
    "K = 55 # Number of available machines\n",
    "\n",
    "# Run the model with the default parameters\n",
    "MF.analysis_FBM(simulated_instances_name+simulated_instances_name_p,\n",
    "                K = K,\n",
    "                file = 'Results/FBM_simulated_instances2',\n",
    "                output = 1, \n",
    "                T_limit = 3600, \n",
    "                logs = True)\n"
   ]
  },
  {
   "cell_type": "markdown",
   "id": "e199ff0b",
   "metadata": {},
   "source": [
    "## Simulated instances of group 3 (multiplying the arrival rates by factor of 2)"
   ]
  },
  {
   "cell_type": "code",
   "execution_count": null,
   "id": "52aa3201",
   "metadata": {
    "scrolled": true
   },
   "outputs": [],
   "source": [
    "import FBM as MF\n",
    "\n",
    "# Names of the files with the simulated test instances\n",
    "i = 2\n",
    "simulated_instances_name = ['Inst_'+str(i+1)+'_'+str(k+1) for k in range(6)]\n",
    "simulated_instances_name_p = [inst+'_p' for inst in simulated_instances_name]\n",
    "\n",
    "K = 110 # Number of available machines\n",
    "\n",
    "# Run the model with the default parameters\n",
    "MF.analysis_FBM(simulated_instances_name+simulated_instances_name_p,\n",
    "                K = K,\n",
    "                file = 'Results/FBM_simulated_instances3',\n",
    "                output = 1, \n",
    "                T_limit = 3600, \n",
    "                logs = True)\n"
   ]
  },
  {
   "cell_type": "markdown",
   "id": "8f4c1be0",
   "metadata": {},
   "source": [
    "## Simulated instances of group 4 (multiplying the arrival rates by factor of 2.5)"
   ]
  },
  {
   "cell_type": "code",
   "execution_count": null,
   "id": "da7e06b7",
   "metadata": {
    "scrolled": true
   },
   "outputs": [],
   "source": [
    "import FBM as MF\n",
    "\n",
    "# Names of the files with the simulated test instances\n",
    "i = 3\n",
    "simulated_instances_name = ['Inst_'+str(i+1)+'_'+str(k+1) for k in range(6)]\n",
    "simulated_instances_name_p = [inst+'_p' for inst in simulated_instances_name]\n",
    "\n",
    "K = 188 # Number of available machines\n",
    "\n",
    "# Run the model with the default parameters\n",
    "MF.analysis_FBM(simulated_instances_name+simulated_instances_name_p,\n",
    "                K = K,\n",
    "                file = 'Results/FBM_simulated_instances4',\n",
    "                output = 1, \n",
    "                T_limit = 3600, \n",
    "                logs = True)\n"
   ]
  },
  {
   "cell_type": "markdown",
   "id": "129af987",
   "metadata": {},
   "source": [
    "## Simulated instances of group 5 (multiplying the arrival rates by factor of 3)"
   ]
  },
  {
   "cell_type": "code",
   "execution_count": null,
   "id": "f1e719a4",
   "metadata": {
    "scrolled": true
   },
   "outputs": [],
   "source": [
    "import FBM as MF\n",
    "\n",
    "# Names of the files with the simulated test instances\n",
    "i = 4\n",
    "simulated_instances_name = ['Inst_'+str(i+1)+'_'+str(k+1) for k in range(6)]\n",
    "simulated_instances_name_p = [inst+'_p' for inst in simulated_instances_name]\n",
    "\n",
    "K = 227 # Number of available machines\n",
    "\n",
    "# Run the model with the default parameters\n",
    "MF.analysis_FBM(simulated_instances_name+simulated_instances_name_p,\n",
    "                K = K,\n",
    "                file = 'Results/FBM_simulated_instances5',\n",
    "                output = 1, \n",
    "                T_limit = 3600, \n",
    "                logs = True)\n"
   ]
  },
  {
   "cell_type": "code",
   "execution_count": null,
   "id": "1b375d36",
   "metadata": {},
   "outputs": [],
   "source": []
  }
 ],
 "metadata": {
  "kernelspec": {
   "display_name": "Python 3",
   "language": "python",
   "name": "python3"
  },
  "language_info": {
   "codemirror_mode": {
    "name": "ipython",
    "version": 3
   },
   "file_extension": ".py",
   "mimetype": "text/x-python",
   "name": "python",
   "nbconvert_exporter": "python",
   "pygments_lexer": "ipython3",
   "version": "3.7.16"
  }
 },
 "nbformat": 4,
 "nbformat_minor": 5
}
